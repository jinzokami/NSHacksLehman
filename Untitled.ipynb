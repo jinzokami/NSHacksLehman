{
 "cells": [
  {
   "cell_type": "code",
   "execution_count": 1,
   "metadata": {},
   "outputs": [],
   "source": [
    "import pandas as pd\n",
    "import numpy as np\n",
    "import math\n",
    "import os\n",
    "import sys\n",
    "\n",
    "desired_occupation = sys.argv[1]\n",
    "state_of_residence = sys.argv[2]"
   ]
  },
  {
   "cell_type": "code",
   "execution_count": 2,
   "metadata": {},
   "outputs": [],
   "source": [
    "occupation_data = pd.read_csv(\"occupation_data.csv\")\n",
    "university_data = pd.read_csv(\"university_data.csv\")"
   ]
  },
  {
   "cell_type": "code",
   "execution_count": 3,
   "metadata": {},
   "outputs": [
    {
     "data": {
      "text/html": [
       "<div>\n",
       "<style scoped>\n",
       "    .dataframe tbody tr th:only-of-type {\n",
       "        vertical-align: middle;\n",
       "    }\n",
       "\n",
       "    .dataframe tbody tr th {\n",
       "        vertical-align: top;\n",
       "    }\n",
       "\n",
       "    .dataframe thead th {\n",
       "        text-align: right;\n",
       "    }\n",
       "</style>\n",
       "<table border=\"1\" class=\"dataframe\">\n",
       "  <thead>\n",
       "    <tr style=\"text-align: right;\">\n",
       "      <th></th>\n",
       "      <th>OccupationTitle</th>\n",
       "      <th>MedianWeeklySalary</th>\n",
       "    </tr>\n",
       "  </thead>\n",
       "  <tbody>\n",
       "    <tr>\n",
       "      <th>0</th>\n",
       "      <td>Total full-time wage and salary workers</td>\n",
       "      <td>886</td>\n",
       "    </tr>\n",
       "    <tr>\n",
       "      <th>1</th>\n",
       "      <td>Management professional and related occupations</td>\n",
       "      <td>1246</td>\n",
       "    </tr>\n",
       "    <tr>\n",
       "      <th>2</th>\n",
       "      <td>Management business and financial operations o...</td>\n",
       "      <td>1355</td>\n",
       "    </tr>\n",
       "    <tr>\n",
       "      <th>3</th>\n",
       "      <td>Management occupations</td>\n",
       "      <td>1429</td>\n",
       "    </tr>\n",
       "    <tr>\n",
       "      <th>4</th>\n",
       "      <td>Chief executives</td>\n",
       "      <td>2291</td>\n",
       "    </tr>\n",
       "  </tbody>\n",
       "</table>\n",
       "</div>"
      ],
      "text/plain": [
       "                                     OccupationTitle MedianWeeklySalary\n",
       "0            Total full-time wage and salary workers                886\n",
       "1    Management professional and related occupations               1246\n",
       "2  Management business and financial operations o...               1355\n",
       "3                             Management occupations               1429\n",
       "4                                   Chief executives               2291"
      ]
     },
     "execution_count": 3,
     "metadata": {},
     "output_type": "execute_result"
    }
   ],
   "source": [
    "occupation_data.head()"
   ]
  },
  {
   "cell_type": "code",
   "execution_count": 4,
   "metadata": {},
   "outputs": [
    {
     "data": {
      "text/html": [
       "<div>\n",
       "<style scoped>\n",
       "    .dataframe tbody tr th:only-of-type {\n",
       "        vertical-align: middle;\n",
       "    }\n",
       "\n",
       "    .dataframe tbody tr th {\n",
       "        vertical-align: top;\n",
       "    }\n",
       "\n",
       "    .dataframe thead th {\n",
       "        text-align: right;\n",
       "    }\n",
       "</style>\n",
       "<table border=\"1\" class=\"dataframe\">\n",
       "  <thead>\n",
       "    <tr style=\"text-align: right;\">\n",
       "      <th></th>\n",
       "      <th>UniversityName</th>\n",
       "      <th>City</th>\n",
       "      <th>State</th>\n",
       "      <th>OutCost</th>\n",
       "      <th>InCost</th>\n",
       "    </tr>\n",
       "  </thead>\n",
       "  <tbody>\n",
       "    <tr>\n",
       "      <th>0</th>\n",
       "      <td>Princeton University</td>\n",
       "      <td>Princeton</td>\n",
       "      <td>NJ</td>\n",
       "      <td>51870</td>\n",
       "      <td>51870</td>\n",
       "    </tr>\n",
       "    <tr>\n",
       "      <th>1</th>\n",
       "      <td>​Harvard University</td>\n",
       "      <td>Cambridge</td>\n",
       "      <td>MA</td>\n",
       "      <td>51925</td>\n",
       "      <td>51925</td>\n",
       "    </tr>\n",
       "    <tr>\n",
       "      <th>2</th>\n",
       "      <td>​Columbia University</td>\n",
       "      <td>New York</td>\n",
       "      <td>NY</td>\n",
       "      <td>61850</td>\n",
       "      <td>6850</td>\n",
       "    </tr>\n",
       "    <tr>\n",
       "      <th>3</th>\n",
       "      <td>​Massachusetts Institute of Technology</td>\n",
       "      <td>Cambridge</td>\n",
       "      <td>MA</td>\n",
       "      <td>53790</td>\n",
       "      <td>53790</td>\n",
       "    </tr>\n",
       "    <tr>\n",
       "      <th>4</th>\n",
       "      <td>​Yale University</td>\n",
       "      <td>New Haven</td>\n",
       "      <td>CT</td>\n",
       "      <td>55500</td>\n",
       "      <td>55500</td>\n",
       "    </tr>\n",
       "  </tbody>\n",
       "</table>\n",
       "</div>"
      ],
      "text/plain": [
       "                           UniversityName       City State  OutCost  InCost\n",
       "0                    Princeton University  Princeton    NJ    51870   51870\n",
       "1                     ​Harvard University  Cambridge    MA    51925   51925\n",
       "2                    ​Columbia University   New York    NY    61850    6850\n",
       "3  ​Massachusetts Institute of Technology  Cambridge    MA    53790   53790\n",
       "4                        ​Yale University  New Haven    CT    55500   55500"
      ]
     },
     "execution_count": 4,
     "metadata": {},
     "output_type": "execute_result"
    }
   ],
   "source": [
    "university_data.head()"
   ]
  },
  {
   "cell_type": "code",
   "execution_count": 5,
   "metadata": {},
   "outputs": [
    {
     "data": {
      "text/plain": [
       "OccupationTitle       object\n",
       "MedianWeeklySalary    object\n",
       "dtype: object"
      ]
     },
     "execution_count": 5,
     "metadata": {},
     "output_type": "execute_result"
    }
   ],
   "source": [
    "occupation_data.dtypes"
   ]
  },
  {
   "cell_type": "code",
   "execution_count": 6,
   "metadata": {},
   "outputs": [
    {
     "data": {
      "text/plain": [
       "OccupationTitle        object\n",
       "MedianWeeklySalary    float64\n",
       "dtype: object"
      ]
     },
     "execution_count": 6,
     "metadata": {},
     "output_type": "execute_result"
    }
   ],
   "source": [
    "idx = (occupation_data[\"MedianWeeklySalary\"] == \"-\")\n",
    "occupation_data.loc[idx, \"MedianWeeklySalary\"] = np.nan\n",
    "occupation_data[\"MedianWeeklySalary\"] = occupation_data[\"MedianWeeklySalary\"].astype(float)\n",
    "occupation_data.dtypes"
   ]
  },
  {
   "cell_type": "code",
   "execution_count": 7,
   "metadata": {},
   "outputs": [
    {
     "data": {
      "text/plain": [
       "UniversityName    object\n",
       "City              object\n",
       "State             object\n",
       "OutCost            int64\n",
       "InCost             int64\n",
       "dtype: object"
      ]
     },
     "execution_count": 7,
     "metadata": {},
     "output_type": "execute_result"
    }
   ],
   "source": [
    "university_data.dtypes"
   ]
  },
  {
   "cell_type": "code",
   "execution_count": 8,
   "metadata": {},
   "outputs": [],
   "source": [
    "university_data[\"OutCost\"] = university_data[\"OutCost\"].astype(float)\n",
    "university_data[\"InCost\"] = university_data[\"InCost\"].astype(float)"
   ]
  },
  {
   "cell_type": "code",
   "execution_count": 9,
   "metadata": {},
   "outputs": [
    {
     "data": {
      "text/html": [
       "<div>\n",
       "<style scoped>\n",
       "    .dataframe tbody tr th:only-of-type {\n",
       "        vertical-align: middle;\n",
       "    }\n",
       "\n",
       "    .dataframe tbody tr th {\n",
       "        vertical-align: top;\n",
       "    }\n",
       "\n",
       "    .dataframe thead th {\n",
       "        text-align: right;\n",
       "    }\n",
       "</style>\n",
       "<table border=\"1\" class=\"dataframe\">\n",
       "  <thead>\n",
       "    <tr style=\"text-align: right;\">\n",
       "      <th></th>\n",
       "      <th>OccupationTitle</th>\n",
       "      <th>MedianWeeklySalary</th>\n",
       "    </tr>\n",
       "  </thead>\n",
       "  <tbody>\n",
       "    <tr>\n",
       "      <th>68</th>\n",
       "      <td>Computer programmers</td>\n",
       "      <td>1591.0</td>\n",
       "    </tr>\n",
       "  </tbody>\n",
       "</table>\n",
       "</div>"
      ],
      "text/plain": [
       "         OccupationTitle  MedianWeeklySalary\n",
       "68  Computer programmers              1591.0"
      ]
     },
     "execution_count": 9,
     "metadata": {},
     "output_type": "execute_result"
    }
   ],
   "source": [
    "idx = occupation_data[\"OccupationTitle\"] == desired_occupation\n",
    "weekly = occupation_data[idx]\n",
    "\n",
    "weekly.head()"
   ]
  },
  {
   "cell_type": "code",
   "execution_count": 10,
   "metadata": {},
   "outputs": [
    {
     "name": "stdout",
     "output_type": "stream",
     "text": [
      "689.4333333333334\n"
     ]
    }
   ],
   "source": [
    "yearly = weekly[\"MedianWeeklySalary\"].astype(int)*52\n",
    "monthly_contribution = (yearly.array[0]/12)*.1\n",
    "print(monthly_contribution)"
   ]
  },
  {
   "cell_type": "code",
   "execution_count": 11,
   "metadata": {},
   "outputs": [
    {
     "data": {
      "text/html": [
       "<div>\n",
       "<style scoped>\n",
       "    .dataframe tbody tr th:only-of-type {\n",
       "        vertical-align: middle;\n",
       "    }\n",
       "\n",
       "    .dataframe tbody tr th {\n",
       "        vertical-align: top;\n",
       "    }\n",
       "\n",
       "    .dataframe thead th {\n",
       "        text-align: right;\n",
       "    }\n",
       "</style>\n",
       "<table border=\"1\" class=\"dataframe\">\n",
       "  <thead>\n",
       "    <tr style=\"text-align: right;\">\n",
       "      <th></th>\n",
       "      <th>UniversityName</th>\n",
       "      <th>City</th>\n",
       "      <th>State</th>\n",
       "      <th>OutCost</th>\n",
       "      <th>InCost</th>\n",
       "      <th>TimeToPayOff</th>\n",
       "    </tr>\n",
       "  </thead>\n",
       "  <tbody>\n",
       "    <tr>\n",
       "      <th>0</th>\n",
       "      <td>Princeton University</td>\n",
       "      <td>Princeton</td>\n",
       "      <td>NJ</td>\n",
       "      <td>51870.0</td>\n",
       "      <td>51870.0</td>\n",
       "      <td>244.000000</td>\n",
       "    </tr>\n",
       "    <tr>\n",
       "      <th>1</th>\n",
       "      <td>​Harvard University</td>\n",
       "      <td>Cambridge</td>\n",
       "      <td>MA</td>\n",
       "      <td>51925.0</td>\n",
       "      <td>51925.0</td>\n",
       "      <td>244.916667</td>\n",
       "    </tr>\n",
       "    <tr>\n",
       "      <th>2</th>\n",
       "      <td>​Columbia University</td>\n",
       "      <td>New York</td>\n",
       "      <td>NY</td>\n",
       "      <td>61850.0</td>\n",
       "      <td>6850.0</td>\n",
       "      <td>410.333333</td>\n",
       "    </tr>\n",
       "    <tr>\n",
       "      <th>3</th>\n",
       "      <td>​Massachusetts Institute of Technology</td>\n",
       "      <td>Cambridge</td>\n",
       "      <td>MA</td>\n",
       "      <td>53790.0</td>\n",
       "      <td>53790.0</td>\n",
       "      <td>276.000000</td>\n",
       "    </tr>\n",
       "    <tr>\n",
       "      <th>4</th>\n",
       "      <td>​Yale University</td>\n",
       "      <td>New Haven</td>\n",
       "      <td>CT</td>\n",
       "      <td>55500.0</td>\n",
       "      <td>55500.0</td>\n",
       "      <td>304.500000</td>\n",
       "    </tr>\n",
       "  </tbody>\n",
       "</table>\n",
       "</div>"
      ],
      "text/plain": [
       "                           UniversityName       City State  OutCost   InCost  \\\n",
       "0                    Princeton University  Princeton    NJ  51870.0  51870.0   \n",
       "1                     ​Harvard University  Cambridge    MA  51925.0  51925.0   \n",
       "2                    ​Columbia University   New York    NY  61850.0   6850.0   \n",
       "3  ​Massachusetts Institute of Technology  Cambridge    MA  53790.0  53790.0   \n",
       "4                        ​Yale University  New Haven    CT  55500.0  55500.0   \n",
       "\n",
       "   TimeToPayOff  \n",
       "0    244.000000  \n",
       "1    244.916667  \n",
       "2    410.333333  \n",
       "3    276.000000  \n",
       "4    304.500000  "
      ]
     },
     "execution_count": 11,
     "metadata": {},
     "output_type": "execute_result"
    }
   ],
   "source": [
    "#brute force! sim the months till balance is 0\n",
    "#I have no idea how finances work\n",
    "def sim_payoff(tuit, mon_con):\n",
    "    total_tuit = tuit*4;\n",
    "    total_months = 0\n",
    "    while True:\n",
    "        interest = total_tuit * (.0481/12)\n",
    "        for i in range(12):\n",
    "            total_tuit += interest\n",
    "            total_tuit -= max(mon_con, interest+20)\n",
    "            total_months += 1\n",
    "            if total_tuit < 0:\n",
    "                return total_months/12\n",
    "\n",
    "university_data[\"TimeToPayOff\"] = university_data[\"OutCost\"].apply(sim_payoff, args=[monthly_contribution])\n",
    "university_data.head()"
   ]
  },
  {
   "cell_type": "code",
   "execution_count": 12,
   "metadata": {},
   "outputs": [],
   "source": [
    "university_data = university_data.sort_values(by=\"TimeToPayOff\")\n",
    "res = university_data.head(20)"
   ]
  },
  {
   "cell_type": "code",
   "execution_count": 13,
   "metadata": {},
   "outputs": [],
   "source": [
    "res.to_json(\"result.json\")"
   ]
  },
  {
   "cell_type": "code",
   "execution_count": null,
   "metadata": {},
   "outputs": [],
   "source": []
  },
  {
   "cell_type": "code",
   "execution_count": null,
   "metadata": {},
   "outputs": [],
   "source": []
  }
 ],
 "metadata": {
  "kernelspec": {
   "display_name": "Python 3",
   "language": "python",
   "name": "python3"
  },
  "language_info": {
   "codemirror_mode": {
    "name": "ipython",
    "version": 3
   },
   "file_extension": ".py",
   "mimetype": "text/x-python",
   "name": "python",
   "nbconvert_exporter": "python",
   "pygments_lexer": "ipython3",
   "version": "3.7.3"
  }
 },
 "nbformat": 4,
 "nbformat_minor": 2
}
